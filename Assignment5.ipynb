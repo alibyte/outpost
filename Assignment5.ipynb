{
  "nbformat": 4,
  "nbformat_minor": 0,
  "metadata": {
    "colab": {
      "name": "Assignment5.ipynb",
      "provenance": [],
      "authorship_tag": "ABX9TyOxYIhu4ETqnc4Pa7PmCm8e",
      "include_colab_link": true
    },
    "kernelspec": {
      "name": "python3",
      "display_name": "Python 3"
    }
  },
  "cells": [
    {
      "cell_type": "markdown",
      "metadata": {
        "id": "view-in-github",
        "colab_type": "text"
      },
      "source": [
        "<a href=\"https://colab.research.google.com/github/alibyte/outpost/blob/master/Assignment5.ipynb\" target=\"_parent\"><img src=\"https://colab.research.google.com/assets/colab-badge.svg\" alt=\"Open In Colab\"/></a>"
      ]
    },
    {
      "cell_type": "code",
      "metadata": {
        "id": "nNfHy4flg6_v",
        "colab_type": "code",
        "outputId": "d5129adc-ef0f-48bb-fccc-e3538661d071",
        "colab": {
          "base_uri": "https://localhost:8080/",
          "height": 51
        }
      },
      "source": [
        "def DataStore():\n",
        "  x = input(\"Give Student Name: \")\n",
        "  DataDump =[\n",
        "    (\"Rick\",[\"Data Science\",\"Criminal Justice\"],[\"444\"]),\n",
        "    (\"Niander\",[\"Artificial Intelligence\", \"Replicant Development\"],[\"555\"]),\n",
        "    (\"Rachael\",[\"Data Science\",\"Artificial Intelligence\"],[\"666\"]),\n",
        "  ]\n",
        "  if x == \"Rick\":\n",
        "    y = 0\n",
        "  elif x == \"Niander\":\n",
        "    y = 1\n",
        "  elif x == \"Rachael\":\n",
        "    y = 2\n",
        "  return (DataDump[y][1])\n",
        "DataStore()"
      ],
      "execution_count": 0,
      "outputs": [
        {
          "output_type": "stream",
          "text": [
            "Give Student Name: Rachael\n"
          ],
          "name": "stdout"
        },
        {
          "output_type": "execute_result",
          "data": {
            "text/plain": [
              "['Data Science', 'Artificial Intelligence']"
            ]
          },
          "metadata": {
            "tags": []
          },
          "execution_count": 15
        }
      ]
    },
    {
      "cell_type": "markdown",
      "metadata": {
        "id": "FbnR4sLOmZwt",
        "colab_type": "text"
      },
      "source": [
        "Assignment 2"
      ]
    },
    {
      "cell_type": "code",
      "metadata": {
        "id": "CglecDmOmchj",
        "colab_type": "code",
        "outputId": "65509af2-d826-4140-98a0-be5933e1ade4",
        "colab": {
          "base_uri": "https://localhost:8080/",
          "height": 68
        }
      },
      "source": [
        "matrix = []\n",
        "n = input(\"Rows: \")\n",
        "m = input(\"Columns: \")\n",
        "for i in range(int(n)):\n",
        "  matrix.append(n)\n",
        "for i in range(int(m)):\n",
        "  matrix.append(m)\n",
        "\n",
        "print(matrix)"
      ],
      "execution_count": 0,
      "outputs": [
        {
          "output_type": "stream",
          "text": [
            "Rows: 3\n",
            "Columns: 6\n",
            "['3', '3', '3', '6', '6', '6', '6', '6', '6']\n"
          ],
          "name": "stdout"
        }
      ]
    },
    {
      "cell_type": "code",
      "metadata": {
        "id": "M3C81o2Kt7J0",
        "colab_type": "code",
        "colab": {}
      },
      "source": [
        ""
      ],
      "execution_count": 0,
      "outputs": []
    }
  ]
}